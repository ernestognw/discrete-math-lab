{
 "cells": [
  {
   "cell_type": "code",
   "execution_count": 1,
   "metadata": {},
   "outputs": [
    {
     "name": "stdout",
     "output_type": "stream",
     "text": [
      "0 \n",
      "1 \n",
      "1 \n",
      "2 \n",
      "3 \n",
      "5 \n",
      "8 \n",
      "13 \n",
      "21 \n",
      "34 \n"
     ]
    }
   ],
   "source": [
    "# Suceción Fibonacci\n",
    "\n",
    "def fib(n):\n",
    "    a, b = 0, 1\n",
    "    while a < n:\n",
    "        print(a, end=' ')\n",
    "        a, b = b, a+b\n",
    "        print()\n",
    "        \n",
    "fib(40)"
   ]
  },
  {
   "cell_type": "code",
   "execution_count": 2,
   "metadata": {},
   "outputs": [
    {
     "name": "stdout",
     "output_type": "stream",
     "text": [
      "0 -> 0\n",
      "1 -> 1\n",
      "2 -> 1\n",
      "3 -> 2\n",
      "4 -> 3\n",
      "5 -> 5\n",
      "6 -> 8\n",
      "7 -> 13\n",
      "8 -> 21\n",
      "9 -> 34\n"
     ]
    }
   ],
   "source": [
    "# Sucesión Fibonacci recursiva\n",
    "\n",
    "def rfib(n):\n",
    "    if n < 2:\n",
    "        return n\n",
    "    return rfib(n-2) + rfib(n-1)\n",
    "\n",
    "for num in range(10):\n",
    "    print(num, '->', rfib(num))"
   ]
  },
  {
   "cell_type": "code",
   "execution_count": 16,
   "metadata": {},
   "outputs": [
    {
     "name": "stdout",
     "output_type": "stream",
     "text": [
      "5\n",
      "7\n",
      "9\n",
      "11\n",
      "13\n",
      "15\n",
      "17\n",
      "19\n"
     ]
    }
   ],
   "source": [
    "for num in range(5,20,2):\n",
    "    print(num)"
   ]
  },
  {
   "cell_type": "code",
   "execution_count": 17,
   "metadata": {},
   "outputs": [
    {
     "name": "stdout",
     "output_type": "stream",
     "text": [
      "2  5  8  11  14  17  20  23  26  29  "
     ]
    }
   ],
   "source": [
    "inicio, limite, incremento = 2, 30, 3\n",
    "\n",
    "for contador in range(inicio,limite,incremento):\n",
    "    print(contador, ' ', end='')"
   ]
  },
  {
   "cell_type": "code",
   "execution_count": 36,
   "metadata": {},
   "outputs": [
    {
     "name": "stdout",
     "output_type": "stream",
     "text": [
      "3\n",
      "9\n",
      "21\n"
     ]
    }
   ],
   "source": [
    "# ∑ from 1 to 4 of n = n + (1+n)\n",
    "\n",
    "inicio = 1\n",
    "limite = 4\n",
    "\n",
    "resultado = inicio\n",
    "\n",
    "for num in range(inicio,limite):\n",
    "    resultado += num * (1+num)\n",
    "    print(resultado)"
   ]
  },
  {
   "cell_type": "code",
   "execution_count": 47,
   "metadata": {},
   "outputs": [
    {
     "name": "stdout",
     "output_type": "stream",
     "text": [
      "1\n",
      "4\n",
      "36\n"
     ]
    }
   ],
   "source": [
    "# ∑ from 1 to 3 of n = n * n^2\n",
    "\n",
    "inicio = 1\n",
    "limite = 3\n",
    "\n",
    "resultado = inicio\n",
    "\n",
    "for num in range(1,3):\n",
    "    resultado *= num**2\n",
    "    print(resultado)"
   ]
  },
  {
   "cell_type": "code",
   "execution_count": 44,
   "metadata": {},
   "outputs": [
    {
     "name": "stdout",
     "output_type": "stream",
     "text": [
      "2.0\n"
     ]
    }
   ],
   "source": [
    "# ∑ from -1 to 0 of n = n + 2^n * (3 + n)\n",
    "\n",
    "inicio = 1\n",
    "limite = 3\n",
    "\n",
    "resultado = inicio\n",
    "\n",
    "for num in range(-1,0):\n",
    "    resultado += 2**num*(3+num)\n",
    "    print(resultado)"
   ]
  },
  {
   "cell_type": "code",
   "execution_count": 46,
   "metadata": {},
   "outputs": [
    {
     "name": "stdout",
     "output_type": "stream",
     "text": [
      "0.5\n",
      "-0.6666666666666666\n",
      "0.75\n",
      "-0.8\n",
      "0.8333333333333334\n",
      "-0.8571428571428571\n"
     ]
    }
   ],
   "source": [
    "# 1/2, -2/3, 3/4, -4/5, -5/6 ...\n",
    "\n",
    "inicio = 1\n",
    "limite = 7\n",
    "\n",
    "resultado = inicio\n",
    "\n",
    "for num in range(inicio,limite):\n",
    "    resultado = (-1)**(1+num) * num/(1+num)\n",
    "    print(resultado)"
   ]
  },
  {
   "cell_type": "code",
   "execution_count": null,
   "metadata": {},
   "outputs": [],
   "source": []
  }
 ],
 "metadata": {
  "kernelspec": {
   "display_name": "Python 3",
   "language": "python",
   "name": "python3"
  },
  "language_info": {
   "codemirror_mode": {
    "name": "ipython",
    "version": 3
   },
   "file_extension": ".py",
   "mimetype": "text/x-python",
   "name": "python",
   "nbconvert_exporter": "python",
   "pygments_lexer": "ipython3",
   "version": "3.6.4"
  }
 },
 "nbformat": 4,
 "nbformat_minor": 2
}
